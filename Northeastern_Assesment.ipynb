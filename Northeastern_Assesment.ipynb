{
  "cells": [
    {
      "cell_type": "markdown",
      "source": [
        "# Part 1\n",
        "\n"
      ],
      "metadata": {
        "id": "FcMDCnQjPyd9"
      }
    },
    {
      "cell_type": "markdown",
      "source": [
        "## Data in a Structure"
      ],
      "metadata": {
        "id": "i07J0T69QIu-"
      }
    },
    {
      "cell_type": "code",
      "execution_count": 1,
      "metadata": {
        "colab": {
          "base_uri": "https://localhost:8080/"
        },
        "id": "k6-8IoGKLsnO",
        "outputId": "3e9ccc0e-c308-4fbe-92e2-cb90558f2bd5"
      },
      "outputs": [
        {
          "output_type": "stream",
          "name": "stdout",
          "text": [
            "Requirement already satisfied: pandas in /usr/local/lib/python3.10/dist-packages (2.1.4)\n",
            "Requirement already satisfied: numpy<2,>=1.22.4 in /usr/local/lib/python3.10/dist-packages (from pandas) (1.26.4)\n",
            "Requirement already satisfied: python-dateutil>=2.8.2 in /usr/local/lib/python3.10/dist-packages (from pandas) (2.8.2)\n",
            "Requirement already satisfied: pytz>=2020.1 in /usr/local/lib/python3.10/dist-packages (from pandas) (2024.1)\n",
            "Requirement already satisfied: tzdata>=2022.1 in /usr/local/lib/python3.10/dist-packages (from pandas) (2024.1)\n",
            "Requirement already satisfied: six>=1.5 in /usr/local/lib/python3.10/dist-packages (from python-dateutil>=2.8.2->pandas) (1.16.0)\n"
          ]
        }
      ],
      "source": [
        "pip install pandas"
      ]
    },
    {
      "cell_type": "code",
      "execution_count": 2,
      "metadata": {
        "colab": {
          "base_uri": "https://localhost:8080/"
        },
        "id": "fcXqSLDCLsnQ",
        "outputId": "3172def7-27fd-4948-e24e-662d8f1f79ce"
      },
      "outputs": [
        {
          "output_type": "stream",
          "name": "stdout",
          "text": [
            "Requirement already satisfied: matplotlib in /usr/local/lib/python3.10/dist-packages (3.7.1)\n",
            "Requirement already satisfied: contourpy>=1.0.1 in /usr/local/lib/python3.10/dist-packages (from matplotlib) (1.2.1)\n",
            "Requirement already satisfied: cycler>=0.10 in /usr/local/lib/python3.10/dist-packages (from matplotlib) (0.12.1)\n",
            "Requirement already satisfied: fonttools>=4.22.0 in /usr/local/lib/python3.10/dist-packages (from matplotlib) (4.53.1)\n",
            "Requirement already satisfied: kiwisolver>=1.0.1 in /usr/local/lib/python3.10/dist-packages (from matplotlib) (1.4.5)\n",
            "Requirement already satisfied: numpy>=1.20 in /usr/local/lib/python3.10/dist-packages (from matplotlib) (1.26.4)\n",
            "Requirement already satisfied: packaging>=20.0 in /usr/local/lib/python3.10/dist-packages (from matplotlib) (24.1)\n",
            "Requirement already satisfied: pillow>=6.2.0 in /usr/local/lib/python3.10/dist-packages (from matplotlib) (9.4.0)\n",
            "Requirement already satisfied: pyparsing>=2.3.1 in /usr/local/lib/python3.10/dist-packages (from matplotlib) (3.1.2)\n",
            "Requirement already satisfied: python-dateutil>=2.7 in /usr/local/lib/python3.10/dist-packages (from matplotlib) (2.8.2)\n",
            "Requirement already satisfied: six>=1.5 in /usr/local/lib/python3.10/dist-packages (from python-dateutil>=2.7->matplotlib) (1.16.0)\n"
          ]
        }
      ],
      "source": [
        "pip install matplotlib"
      ]
    },
    {
      "cell_type": "code",
      "source": [
        "from google.colab import drive\n",
        "drive.mount('/content/drive')"
      ],
      "metadata": {
        "colab": {
          "base_uri": "https://localhost:8080/"
        },
        "id": "en6N-2VyN8_N",
        "outputId": "1ca9911b-8730-424f-e96c-2cffc1231616"
      },
      "execution_count": 20,
      "outputs": [
        {
          "output_type": "stream",
          "name": "stdout",
          "text": [
            "Mounted at /content/drive\n"
          ]
        }
      ]
    },
    {
      "cell_type": "code",
      "execution_count": 3,
      "metadata": {
        "id": "r6xu82ZHLsnQ"
      },
      "outputs": [],
      "source": [
        "import pandas as pd\n",
        "import matplotlib.pyplot as plt\n"
      ]
    },
    {
      "cell_type": "code",
      "execution_count": 21,
      "metadata": {
        "colab": {
          "base_uri": "https://localhost:8080/"
        },
        "id": "m8o3Oz8oLsnQ",
        "outputId": "9c2e870c-6d78-491e-859b-3b788f991af8"
      },
      "outputs": [
        {
          "output_type": "stream",
          "name": "stderr",
          "text": [
            "<ipython-input-21-bb8211645cff>:1: DtypeWarning: Columns (0,4,5,7,8,9,10,11,12,13,20,29) have mixed types. Specify dtype option on import or set low_memory=False.\n",
            "  df = pd.read_csv('/content/drive/MyDrive/Northeastern/Copy of correct_twitter_202102.tsv', sep='\\t')\n"
          ]
        }
      ],
      "source": [
        "df = pd.read_csv('/content/drive/MyDrive/Northeastern/Copy of correct_twitter_202102.tsv', sep='\\t')\n"
      ]
    },
    {
      "cell_type": "code",
      "execution_count": 22,
      "metadata": {
        "colab": {
          "base_uri": "https://localhost:8080/",
          "height": 429
        },
        "id": "BV-epcNgLsnR",
        "outputId": "015fc782-f25a-4751-be68-c83da5e1e5cf"
      },
      "outputs": [
        {
          "output_type": "execute_result",
          "data": {
            "text/plain": [
              "                    id           event                               ts1  \\\n",
              "0  1358322479136178177  britney_202102  2022-03-01 09:06:52.403595-05:00   \n",
              "1  1358323016736796677  britney_202102  2022-01-05 08:34:04.477789-05:00   \n",
              "2  1358322996696465409  britney_202102  2022-03-01 09:06:52.399008-05:00   \n",
              "3  1358322976769286151  britney_202102  2022-03-01 09:06:52.399205-05:00   \n",
              "4  1368923802260889606  britney_202102  2022-03-01 07:26:05.505986-05:00   \n",
              "\n",
              "                                ts2 from_stream directly_from_stream  \\\n",
              "0  2022-03-01 09:06:52.403595-05:00        True                 True   \n",
              "1  2022-03-01 09:06:52.398778-05:00        True                 True   \n",
              "2  2022-03-01 09:06:52.399008-05:00        True                 True   \n",
              "3  2022-03-01 09:06:52.399205-05:00        True                 True   \n",
              "4  2022-03-01 07:26:05.505986-05:00        True                 True   \n",
              "\n",
              "   from_search directly_from_search from_quote_search  \\\n",
              "0        False                False             False   \n",
              "1        False                False             False   \n",
              "2        False                False             False   \n",
              "3        False                False             False   \n",
              "4        False                False             False   \n",
              "\n",
              "  directly_from_quote_search  ...     retweeted retweeted_author_id  \\\n",
              "0                      False  ...  1.358249e+18        9.325937e+07   \n",
              "1                      False  ...  1.358189e+18        1.752517e+07   \n",
              "2                      False  ...  1.358201e+18        4.035766e+08   \n",
              "3                      False  ...  1.358238e+18        4.429004e+09   \n",
              "4                      False  ...           NaN                 NaN   \n",
              "\n",
              "  retweeted_handle retweeted_follower_count mentioned_author_ids  \\\n",
              "0      briebxrries                   1002.0                  NaN   \n",
              "1          Variety                2669599.0                  NaN   \n",
              "2      Johnnerkell                   2650.0                  NaN   \n",
              "3         PopCrave                 880695.0                  NaN   \n",
              "4              NaN                      NaN                  NaN   \n",
              "\n",
              "  mentioned_handles            hashtags urls media_keys  place_id  \n",
              "0               NaN                 NaN  NaN        NaN       NaN  \n",
              "1               NaN     ['FreeBritney']  NaN        NaN       NaN  \n",
              "2               NaN                 NaN  NaN        NaN       NaN  \n",
              "3               NaN  ['FramingBritney']  NaN        NaN       NaN  \n",
              "4               NaN                 NaN  NaN        NaN       NaN  \n",
              "\n",
              "[5 rows x 46 columns]"
            ],
            "text/html": [
              "\n",
              "  <div id=\"df-486028c1-0648-4022-8d0e-9a7c0c97658b\" class=\"colab-df-container\">\n",
              "    <div>\n",
              "<style scoped>\n",
              "    .dataframe tbody tr th:only-of-type {\n",
              "        vertical-align: middle;\n",
              "    }\n",
              "\n",
              "    .dataframe tbody tr th {\n",
              "        vertical-align: top;\n",
              "    }\n",
              "\n",
              "    .dataframe thead th {\n",
              "        text-align: right;\n",
              "    }\n",
              "</style>\n",
              "<table border=\"1\" class=\"dataframe\">\n",
              "  <thead>\n",
              "    <tr style=\"text-align: right;\">\n",
              "      <th></th>\n",
              "      <th>id</th>\n",
              "      <th>event</th>\n",
              "      <th>ts1</th>\n",
              "      <th>ts2</th>\n",
              "      <th>from_stream</th>\n",
              "      <th>directly_from_stream</th>\n",
              "      <th>from_search</th>\n",
              "      <th>directly_from_search</th>\n",
              "      <th>from_quote_search</th>\n",
              "      <th>directly_from_quote_search</th>\n",
              "      <th>...</th>\n",
              "      <th>retweeted</th>\n",
              "      <th>retweeted_author_id</th>\n",
              "      <th>retweeted_handle</th>\n",
              "      <th>retweeted_follower_count</th>\n",
              "      <th>mentioned_author_ids</th>\n",
              "      <th>mentioned_handles</th>\n",
              "      <th>hashtags</th>\n",
              "      <th>urls</th>\n",
              "      <th>media_keys</th>\n",
              "      <th>place_id</th>\n",
              "    </tr>\n",
              "  </thead>\n",
              "  <tbody>\n",
              "    <tr>\n",
              "      <th>0</th>\n",
              "      <td>1358322479136178177</td>\n",
              "      <td>britney_202102</td>\n",
              "      <td>2022-03-01 09:06:52.403595-05:00</td>\n",
              "      <td>2022-03-01 09:06:52.403595-05:00</td>\n",
              "      <td>True</td>\n",
              "      <td>True</td>\n",
              "      <td>False</td>\n",
              "      <td>False</td>\n",
              "      <td>False</td>\n",
              "      <td>False</td>\n",
              "      <td>...</td>\n",
              "      <td>1.358249e+18</td>\n",
              "      <td>9.325937e+07</td>\n",
              "      <td>briebxrries</td>\n",
              "      <td>1002.0</td>\n",
              "      <td>NaN</td>\n",
              "      <td>NaN</td>\n",
              "      <td>NaN</td>\n",
              "      <td>NaN</td>\n",
              "      <td>NaN</td>\n",
              "      <td>NaN</td>\n",
              "    </tr>\n",
              "    <tr>\n",
              "      <th>1</th>\n",
              "      <td>1358323016736796677</td>\n",
              "      <td>britney_202102</td>\n",
              "      <td>2022-01-05 08:34:04.477789-05:00</td>\n",
              "      <td>2022-03-01 09:06:52.398778-05:00</td>\n",
              "      <td>True</td>\n",
              "      <td>True</td>\n",
              "      <td>False</td>\n",
              "      <td>False</td>\n",
              "      <td>False</td>\n",
              "      <td>False</td>\n",
              "      <td>...</td>\n",
              "      <td>1.358189e+18</td>\n",
              "      <td>1.752517e+07</td>\n",
              "      <td>Variety</td>\n",
              "      <td>2669599.0</td>\n",
              "      <td>NaN</td>\n",
              "      <td>NaN</td>\n",
              "      <td>['FreeBritney']</td>\n",
              "      <td>NaN</td>\n",
              "      <td>NaN</td>\n",
              "      <td>NaN</td>\n",
              "    </tr>\n",
              "    <tr>\n",
              "      <th>2</th>\n",
              "      <td>1358322996696465409</td>\n",
              "      <td>britney_202102</td>\n",
              "      <td>2022-03-01 09:06:52.399008-05:00</td>\n",
              "      <td>2022-03-01 09:06:52.399008-05:00</td>\n",
              "      <td>True</td>\n",
              "      <td>True</td>\n",
              "      <td>False</td>\n",
              "      <td>False</td>\n",
              "      <td>False</td>\n",
              "      <td>False</td>\n",
              "      <td>...</td>\n",
              "      <td>1.358201e+18</td>\n",
              "      <td>4.035766e+08</td>\n",
              "      <td>Johnnerkell</td>\n",
              "      <td>2650.0</td>\n",
              "      <td>NaN</td>\n",
              "      <td>NaN</td>\n",
              "      <td>NaN</td>\n",
              "      <td>NaN</td>\n",
              "      <td>NaN</td>\n",
              "      <td>NaN</td>\n",
              "    </tr>\n",
              "    <tr>\n",
              "      <th>3</th>\n",
              "      <td>1358322976769286151</td>\n",
              "      <td>britney_202102</td>\n",
              "      <td>2022-03-01 09:06:52.399205-05:00</td>\n",
              "      <td>2022-03-01 09:06:52.399205-05:00</td>\n",
              "      <td>True</td>\n",
              "      <td>True</td>\n",
              "      <td>False</td>\n",
              "      <td>False</td>\n",
              "      <td>False</td>\n",
              "      <td>False</td>\n",
              "      <td>...</td>\n",
              "      <td>1.358238e+18</td>\n",
              "      <td>4.429004e+09</td>\n",
              "      <td>PopCrave</td>\n",
              "      <td>880695.0</td>\n",
              "      <td>NaN</td>\n",
              "      <td>NaN</td>\n",
              "      <td>['FramingBritney']</td>\n",
              "      <td>NaN</td>\n",
              "      <td>NaN</td>\n",
              "      <td>NaN</td>\n",
              "    </tr>\n",
              "    <tr>\n",
              "      <th>4</th>\n",
              "      <td>1368923802260889606</td>\n",
              "      <td>britney_202102</td>\n",
              "      <td>2022-03-01 07:26:05.505986-05:00</td>\n",
              "      <td>2022-03-01 07:26:05.505986-05:00</td>\n",
              "      <td>True</td>\n",
              "      <td>True</td>\n",
              "      <td>False</td>\n",
              "      <td>False</td>\n",
              "      <td>False</td>\n",
              "      <td>False</td>\n",
              "      <td>...</td>\n",
              "      <td>NaN</td>\n",
              "      <td>NaN</td>\n",
              "      <td>NaN</td>\n",
              "      <td>NaN</td>\n",
              "      <td>NaN</td>\n",
              "      <td>NaN</td>\n",
              "      <td>NaN</td>\n",
              "      <td>NaN</td>\n",
              "      <td>NaN</td>\n",
              "      <td>NaN</td>\n",
              "    </tr>\n",
              "  </tbody>\n",
              "</table>\n",
              "<p>5 rows × 46 columns</p>\n",
              "</div>\n",
              "    <div class=\"colab-df-buttons\">\n",
              "\n",
              "  <div class=\"colab-df-container\">\n",
              "    <button class=\"colab-df-convert\" onclick=\"convertToInteractive('df-486028c1-0648-4022-8d0e-9a7c0c97658b')\"\n",
              "            title=\"Convert this dataframe to an interactive table.\"\n",
              "            style=\"display:none;\">\n",
              "\n",
              "  <svg xmlns=\"http://www.w3.org/2000/svg\" height=\"24px\" viewBox=\"0 -960 960 960\">\n",
              "    <path d=\"M120-120v-720h720v720H120Zm60-500h600v-160H180v160Zm220 220h160v-160H400v160Zm0 220h160v-160H400v160ZM180-400h160v-160H180v160Zm440 0h160v-160H620v160ZM180-180h160v-160H180v160Zm440 0h160v-160H620v160Z\"/>\n",
              "  </svg>\n",
              "    </button>\n",
              "\n",
              "  <style>\n",
              "    .colab-df-container {\n",
              "      display:flex;\n",
              "      gap: 12px;\n",
              "    }\n",
              "\n",
              "    .colab-df-convert {\n",
              "      background-color: #E8F0FE;\n",
              "      border: none;\n",
              "      border-radius: 50%;\n",
              "      cursor: pointer;\n",
              "      display: none;\n",
              "      fill: #1967D2;\n",
              "      height: 32px;\n",
              "      padding: 0 0 0 0;\n",
              "      width: 32px;\n",
              "    }\n",
              "\n",
              "    .colab-df-convert:hover {\n",
              "      background-color: #E2EBFA;\n",
              "      box-shadow: 0px 1px 2px rgba(60, 64, 67, 0.3), 0px 1px 3px 1px rgba(60, 64, 67, 0.15);\n",
              "      fill: #174EA6;\n",
              "    }\n",
              "\n",
              "    .colab-df-buttons div {\n",
              "      margin-bottom: 4px;\n",
              "    }\n",
              "\n",
              "    [theme=dark] .colab-df-convert {\n",
              "      background-color: #3B4455;\n",
              "      fill: #D2E3FC;\n",
              "    }\n",
              "\n",
              "    [theme=dark] .colab-df-convert:hover {\n",
              "      background-color: #434B5C;\n",
              "      box-shadow: 0px 1px 3px 1px rgba(0, 0, 0, 0.15);\n",
              "      filter: drop-shadow(0px 1px 2px rgba(0, 0, 0, 0.3));\n",
              "      fill: #FFFFFF;\n",
              "    }\n",
              "  </style>\n",
              "\n",
              "    <script>\n",
              "      const buttonEl =\n",
              "        document.querySelector('#df-486028c1-0648-4022-8d0e-9a7c0c97658b button.colab-df-convert');\n",
              "      buttonEl.style.display =\n",
              "        google.colab.kernel.accessAllowed ? 'block' : 'none';\n",
              "\n",
              "      async function convertToInteractive(key) {\n",
              "        const element = document.querySelector('#df-486028c1-0648-4022-8d0e-9a7c0c97658b');\n",
              "        const dataTable =\n",
              "          await google.colab.kernel.invokeFunction('convertToInteractive',\n",
              "                                                    [key], {});\n",
              "        if (!dataTable) return;\n",
              "\n",
              "        const docLinkHtml = 'Like what you see? Visit the ' +\n",
              "          '<a target=\"_blank\" href=https://colab.research.google.com/notebooks/data_table.ipynb>data table notebook</a>'\n",
              "          + ' to learn more about interactive tables.';\n",
              "        element.innerHTML = '';\n",
              "        dataTable['output_type'] = 'display_data';\n",
              "        await google.colab.output.renderOutput(dataTable, element);\n",
              "        const docLink = document.createElement('div');\n",
              "        docLink.innerHTML = docLinkHtml;\n",
              "        element.appendChild(docLink);\n",
              "      }\n",
              "    </script>\n",
              "  </div>\n",
              "\n",
              "\n",
              "<div id=\"df-f0445e77-dffb-4694-ab4b-0e6689c17f81\">\n",
              "  <button class=\"colab-df-quickchart\" onclick=\"quickchart('df-f0445e77-dffb-4694-ab4b-0e6689c17f81')\"\n",
              "            title=\"Suggest charts\"\n",
              "            style=\"display:none;\">\n",
              "\n",
              "<svg xmlns=\"http://www.w3.org/2000/svg\" height=\"24px\"viewBox=\"0 0 24 24\"\n",
              "     width=\"24px\">\n",
              "    <g>\n",
              "        <path d=\"M19 3H5c-1.1 0-2 .9-2 2v14c0 1.1.9 2 2 2h14c1.1 0 2-.9 2-2V5c0-1.1-.9-2-2-2zM9 17H7v-7h2v7zm4 0h-2V7h2v10zm4 0h-2v-4h2v4z\"/>\n",
              "    </g>\n",
              "</svg>\n",
              "  </button>\n",
              "\n",
              "<style>\n",
              "  .colab-df-quickchart {\n",
              "      --bg-color: #E8F0FE;\n",
              "      --fill-color: #1967D2;\n",
              "      --hover-bg-color: #E2EBFA;\n",
              "      --hover-fill-color: #174EA6;\n",
              "      --disabled-fill-color: #AAA;\n",
              "      --disabled-bg-color: #DDD;\n",
              "  }\n",
              "\n",
              "  [theme=dark] .colab-df-quickchart {\n",
              "      --bg-color: #3B4455;\n",
              "      --fill-color: #D2E3FC;\n",
              "      --hover-bg-color: #434B5C;\n",
              "      --hover-fill-color: #FFFFFF;\n",
              "      --disabled-bg-color: #3B4455;\n",
              "      --disabled-fill-color: #666;\n",
              "  }\n",
              "\n",
              "  .colab-df-quickchart {\n",
              "    background-color: var(--bg-color);\n",
              "    border: none;\n",
              "    border-radius: 50%;\n",
              "    cursor: pointer;\n",
              "    display: none;\n",
              "    fill: var(--fill-color);\n",
              "    height: 32px;\n",
              "    padding: 0;\n",
              "    width: 32px;\n",
              "  }\n",
              "\n",
              "  .colab-df-quickchart:hover {\n",
              "    background-color: var(--hover-bg-color);\n",
              "    box-shadow: 0 1px 2px rgba(60, 64, 67, 0.3), 0 1px 3px 1px rgba(60, 64, 67, 0.15);\n",
              "    fill: var(--button-hover-fill-color);\n",
              "  }\n",
              "\n",
              "  .colab-df-quickchart-complete:disabled,\n",
              "  .colab-df-quickchart-complete:disabled:hover {\n",
              "    background-color: var(--disabled-bg-color);\n",
              "    fill: var(--disabled-fill-color);\n",
              "    box-shadow: none;\n",
              "  }\n",
              "\n",
              "  .colab-df-spinner {\n",
              "    border: 2px solid var(--fill-color);\n",
              "    border-color: transparent;\n",
              "    border-bottom-color: var(--fill-color);\n",
              "    animation:\n",
              "      spin 1s steps(1) infinite;\n",
              "  }\n",
              "\n",
              "  @keyframes spin {\n",
              "    0% {\n",
              "      border-color: transparent;\n",
              "      border-bottom-color: var(--fill-color);\n",
              "      border-left-color: var(--fill-color);\n",
              "    }\n",
              "    20% {\n",
              "      border-color: transparent;\n",
              "      border-left-color: var(--fill-color);\n",
              "      border-top-color: var(--fill-color);\n",
              "    }\n",
              "    30% {\n",
              "      border-color: transparent;\n",
              "      border-left-color: var(--fill-color);\n",
              "      border-top-color: var(--fill-color);\n",
              "      border-right-color: var(--fill-color);\n",
              "    }\n",
              "    40% {\n",
              "      border-color: transparent;\n",
              "      border-right-color: var(--fill-color);\n",
              "      border-top-color: var(--fill-color);\n",
              "    }\n",
              "    60% {\n",
              "      border-color: transparent;\n",
              "      border-right-color: var(--fill-color);\n",
              "    }\n",
              "    80% {\n",
              "      border-color: transparent;\n",
              "      border-right-color: var(--fill-color);\n",
              "      border-bottom-color: var(--fill-color);\n",
              "    }\n",
              "    90% {\n",
              "      border-color: transparent;\n",
              "      border-bottom-color: var(--fill-color);\n",
              "    }\n",
              "  }\n",
              "</style>\n",
              "\n",
              "  <script>\n",
              "    async function quickchart(key) {\n",
              "      const quickchartButtonEl =\n",
              "        document.querySelector('#' + key + ' button');\n",
              "      quickchartButtonEl.disabled = true;  // To prevent multiple clicks.\n",
              "      quickchartButtonEl.classList.add('colab-df-spinner');\n",
              "      try {\n",
              "        const charts = await google.colab.kernel.invokeFunction(\n",
              "            'suggestCharts', [key], {});\n",
              "      } catch (error) {\n",
              "        console.error('Error during call to suggestCharts:', error);\n",
              "      }\n",
              "      quickchartButtonEl.classList.remove('colab-df-spinner');\n",
              "      quickchartButtonEl.classList.add('colab-df-quickchart-complete');\n",
              "    }\n",
              "    (() => {\n",
              "      let quickchartButtonEl =\n",
              "        document.querySelector('#df-f0445e77-dffb-4694-ab4b-0e6689c17f81 button');\n",
              "      quickchartButtonEl.style.display =\n",
              "        google.colab.kernel.accessAllowed ? 'block' : 'none';\n",
              "    })();\n",
              "  </script>\n",
              "</div>\n",
              "\n",
              "    </div>\n",
              "  </div>\n"
            ],
            "application/vnd.google.colaboratory.intrinsic+json": {
              "type": "dataframe",
              "variable_name": "df"
            }
          },
          "metadata": {},
          "execution_count": 22
        }
      ],
      "source": [
        "df.head()"
      ]
    },
    {
      "cell_type": "code",
      "execution_count": 23,
      "metadata": {
        "colab": {
          "base_uri": "https://localhost:8080/"
        },
        "id": "mHasATFNLsnR",
        "outputId": "03291f63-fcbd-4362-b9f2-d88bfa54bec4"
      },
      "outputs": [
        {
          "output_type": "stream",
          "name": "stdout",
          "text": [
            "<class 'pandas.core.frame.DataFrame'>\n",
            "RangeIndex: 845730 entries, 0 to 845729\n",
            "Data columns (total 46 columns):\n",
            " #   Column                         Non-Null Count   Dtype  \n",
            "---  ------                         --------------   -----  \n",
            " 0   id                             845730 non-null  object \n",
            " 1   event                          845730 non-null  object \n",
            " 2   ts1                            845730 non-null  object \n",
            " 3    ts2                           845730 non-null  object \n",
            " 4   from_stream                    845730 non-null  object \n",
            " 5   directly_from_stream           845730 non-null  object \n",
            " 6   from_search                    845730 non-null  bool   \n",
            " 7   directly_from_search           845730 non-null  object \n",
            " 8   from_quote_search              845730 non-null  object \n",
            " 9   directly_from_quote_search     845730 non-null  object \n",
            " 10  from_convo_search              845730 non-null  object \n",
            " 11  directly_from_convo_search     845730 non-null  object \n",
            " 12  from_timeline_search           845730 non-null  object \n",
            " 13  directly_from_timeline_search  845730 non-null  object \n",
            " 14  text                           845727 non-null  object \n",
            " 15  lang                           842719 non-null  object \n",
            " 16  author_id                      842718 non-null  float64\n",
            " 17  author_handle                  842718 non-null  object \n",
            " 18  created_at                     842718 non-null  object \n",
            " 19  conversation_id                842718 non-null  float64\n",
            " 20  possibly_sensitive             842718 non-null  object \n",
            " 21  reply_settings                 842718 non-null  object \n",
            " 22  source                         842718 non-null  object \n",
            " 23  author_follower_count          842718 non-null  float64\n",
            " 24  retweet_count                  842718 non-null  float64\n",
            " 25  reply_count                    842718 non-null  float64\n",
            " 26  like_count                     842718 non-null  float64\n",
            " 27  quote_count                    842718 non-null  float64\n",
            " 28  replied_to                     48315 non-null   float64\n",
            " 29  replied_to_author_id           29583 non-null   object \n",
            " 30  replied_to_handle              27738 non-null   object \n",
            " 31  replied_to_follower_count      29580 non-null   float64\n",
            " 32  quoted                         11196 non-null   float64\n",
            " 33  quoted_author_id               9309 non-null    float64\n",
            " 34  quoted_handle                  8316 non-null    object \n",
            " 35  quoted_follower_count          9309 non-null    float64\n",
            " 36  retweeted                      632636 non-null  float64\n",
            " 37  retweeted_author_id            632636 non-null  float64\n",
            " 38  retweeted_handle               632636 non-null  object \n",
            " 39  retweeted_follower_count       632636 non-null  float64\n",
            " 40  mentioned_author_ids           0 non-null       float64\n",
            " 41  mentioned_handles              0 non-null       float64\n",
            " 42  hashtags                       100757 non-null  object \n",
            " 43  urls                           342198 non-null  object \n",
            " 44  media_keys                     212718 non-null  object \n",
            " 45  place_id                       4033 non-null    object \n",
            "dtypes: bool(1), float64(17), object(28)\n",
            "memory usage: 291.2+ MB\n"
          ]
        }
      ],
      "source": [
        "df.info()"
      ]
    },
    {
      "cell_type": "code",
      "execution_count": 24,
      "metadata": {
        "colab": {
          "base_uri": "https://localhost:8080/",
          "height": 1000
        },
        "id": "qmBUmrHyLsnR",
        "outputId": "0f3f5fc0-1eb4-4c5e-fb7d-c75b392f8fb2"
      },
      "outputs": [
        {
          "output_type": "stream",
          "name": "stderr",
          "text": [
            "<ipython-input-24-d80f2d0f92c1>:2: FutureWarning: In a future version of pandas, parsing datetimes with mixed time zones will raise an error unless `utc=True`. Please specify `utc=True` to opt in to the new behaviour and silence this warning. To create a `Series` with mixed offsets and `object` dtype, please use `apply` and `datetime.datetime.strptime`\n",
            "  df['created_at'] = pd.to_datetime(df['created_at'], errors='coerce')\n"
          ]
        },
        {
          "output_type": "execute_result",
          "data": {
            "text/plain": [
              "id                                                  object\n",
              "event                                               object\n",
              "ts1                              datetime64[ns, UTC-05:00]\n",
              " ts2                             datetime64[ns, UTC-05:00]\n",
              "from_stream                                           bool\n",
              "directly_from_stream                                  bool\n",
              "from_search                                           bool\n",
              "directly_from_search                                  bool\n",
              "from_quote_search                                     bool\n",
              "directly_from_quote_search                            bool\n",
              "from_convo_search                                     bool\n",
              "directly_from_convo_search                            bool\n",
              "from_timeline_search                                  bool\n",
              "directly_from_timeline_search                         bool\n",
              "text                                                object\n",
              "lang                                                object\n",
              "author_id                                          float64\n",
              "author_handle                                       object\n",
              "created_at                                          object\n",
              "conversation_id                                    float64\n",
              "possibly_sensitive                                    bool\n",
              "reply_settings                                      object\n",
              "source                                              object\n",
              "author_follower_count                              float64\n",
              "retweet_count                                      float64\n",
              "reply_count                                        float64\n",
              "like_count                                         float64\n",
              "quote_count                                        float64\n",
              "replied_to                                         float64\n",
              "replied_to_author_id                               float64\n",
              "replied_to_handle                                   object\n",
              "replied_to_follower_count                          float64\n",
              "quoted                                             float64\n",
              "quoted_author_id                                   float64\n",
              "quoted_handle                                       object\n",
              "quoted_follower_count                              float64\n",
              "retweeted                                          float64\n",
              "retweeted_author_id                                float64\n",
              "retweeted_handle                                    object\n",
              "retweeted_follower_count                           float64\n",
              "mentioned_author_ids                               float64\n",
              "mentioned_handles                                  float64\n",
              "hashtags                                            object\n",
              "urls                                                object\n",
              "media_keys                                          object\n",
              "place_id                                            object\n",
              "dtype: object"
            ],
            "text/html": [
              "<div>\n",
              "<style scoped>\n",
              "    .dataframe tbody tr th:only-of-type {\n",
              "        vertical-align: middle;\n",
              "    }\n",
              "\n",
              "    .dataframe tbody tr th {\n",
              "        vertical-align: top;\n",
              "    }\n",
              "\n",
              "    .dataframe thead th {\n",
              "        text-align: right;\n",
              "    }\n",
              "</style>\n",
              "<table border=\"1\" class=\"dataframe\">\n",
              "  <thead>\n",
              "    <tr style=\"text-align: right;\">\n",
              "      <th></th>\n",
              "      <th>0</th>\n",
              "    </tr>\n",
              "  </thead>\n",
              "  <tbody>\n",
              "    <tr>\n",
              "      <th>id</th>\n",
              "      <td>object</td>\n",
              "    </tr>\n",
              "    <tr>\n",
              "      <th>event</th>\n",
              "      <td>object</td>\n",
              "    </tr>\n",
              "    <tr>\n",
              "      <th>ts1</th>\n",
              "      <td>datetime64[ns, UTC-05:00]</td>\n",
              "    </tr>\n",
              "    <tr>\n",
              "      <th>ts2</th>\n",
              "      <td>datetime64[ns, UTC-05:00]</td>\n",
              "    </tr>\n",
              "    <tr>\n",
              "      <th>from_stream</th>\n",
              "      <td>bool</td>\n",
              "    </tr>\n",
              "    <tr>\n",
              "      <th>directly_from_stream</th>\n",
              "      <td>bool</td>\n",
              "    </tr>\n",
              "    <tr>\n",
              "      <th>from_search</th>\n",
              "      <td>bool</td>\n",
              "    </tr>\n",
              "    <tr>\n",
              "      <th>directly_from_search</th>\n",
              "      <td>bool</td>\n",
              "    </tr>\n",
              "    <tr>\n",
              "      <th>from_quote_search</th>\n",
              "      <td>bool</td>\n",
              "    </tr>\n",
              "    <tr>\n",
              "      <th>directly_from_quote_search</th>\n",
              "      <td>bool</td>\n",
              "    </tr>\n",
              "    <tr>\n",
              "      <th>from_convo_search</th>\n",
              "      <td>bool</td>\n",
              "    </tr>\n",
              "    <tr>\n",
              "      <th>directly_from_convo_search</th>\n",
              "      <td>bool</td>\n",
              "    </tr>\n",
              "    <tr>\n",
              "      <th>from_timeline_search</th>\n",
              "      <td>bool</td>\n",
              "    </tr>\n",
              "    <tr>\n",
              "      <th>directly_from_timeline_search</th>\n",
              "      <td>bool</td>\n",
              "    </tr>\n",
              "    <tr>\n",
              "      <th>text</th>\n",
              "      <td>object</td>\n",
              "    </tr>\n",
              "    <tr>\n",
              "      <th>lang</th>\n",
              "      <td>object</td>\n",
              "    </tr>\n",
              "    <tr>\n",
              "      <th>author_id</th>\n",
              "      <td>float64</td>\n",
              "    </tr>\n",
              "    <tr>\n",
              "      <th>author_handle</th>\n",
              "      <td>object</td>\n",
              "    </tr>\n",
              "    <tr>\n",
              "      <th>created_at</th>\n",
              "      <td>object</td>\n",
              "    </tr>\n",
              "    <tr>\n",
              "      <th>conversation_id</th>\n",
              "      <td>float64</td>\n",
              "    </tr>\n",
              "    <tr>\n",
              "      <th>possibly_sensitive</th>\n",
              "      <td>bool</td>\n",
              "    </tr>\n",
              "    <tr>\n",
              "      <th>reply_settings</th>\n",
              "      <td>object</td>\n",
              "    </tr>\n",
              "    <tr>\n",
              "      <th>source</th>\n",
              "      <td>object</td>\n",
              "    </tr>\n",
              "    <tr>\n",
              "      <th>author_follower_count</th>\n",
              "      <td>float64</td>\n",
              "    </tr>\n",
              "    <tr>\n",
              "      <th>retweet_count</th>\n",
              "      <td>float64</td>\n",
              "    </tr>\n",
              "    <tr>\n",
              "      <th>reply_count</th>\n",
              "      <td>float64</td>\n",
              "    </tr>\n",
              "    <tr>\n",
              "      <th>like_count</th>\n",
              "      <td>float64</td>\n",
              "    </tr>\n",
              "    <tr>\n",
              "      <th>quote_count</th>\n",
              "      <td>float64</td>\n",
              "    </tr>\n",
              "    <tr>\n",
              "      <th>replied_to</th>\n",
              "      <td>float64</td>\n",
              "    </tr>\n",
              "    <tr>\n",
              "      <th>replied_to_author_id</th>\n",
              "      <td>float64</td>\n",
              "    </tr>\n",
              "    <tr>\n",
              "      <th>replied_to_handle</th>\n",
              "      <td>object</td>\n",
              "    </tr>\n",
              "    <tr>\n",
              "      <th>replied_to_follower_count</th>\n",
              "      <td>float64</td>\n",
              "    </tr>\n",
              "    <tr>\n",
              "      <th>quoted</th>\n",
              "      <td>float64</td>\n",
              "    </tr>\n",
              "    <tr>\n",
              "      <th>quoted_author_id</th>\n",
              "      <td>float64</td>\n",
              "    </tr>\n",
              "    <tr>\n",
              "      <th>quoted_handle</th>\n",
              "      <td>object</td>\n",
              "    </tr>\n",
              "    <tr>\n",
              "      <th>quoted_follower_count</th>\n",
              "      <td>float64</td>\n",
              "    </tr>\n",
              "    <tr>\n",
              "      <th>retweeted</th>\n",
              "      <td>float64</td>\n",
              "    </tr>\n",
              "    <tr>\n",
              "      <th>retweeted_author_id</th>\n",
              "      <td>float64</td>\n",
              "    </tr>\n",
              "    <tr>\n",
              "      <th>retweeted_handle</th>\n",
              "      <td>object</td>\n",
              "    </tr>\n",
              "    <tr>\n",
              "      <th>retweeted_follower_count</th>\n",
              "      <td>float64</td>\n",
              "    </tr>\n",
              "    <tr>\n",
              "      <th>mentioned_author_ids</th>\n",
              "      <td>float64</td>\n",
              "    </tr>\n",
              "    <tr>\n",
              "      <th>mentioned_handles</th>\n",
              "      <td>float64</td>\n",
              "    </tr>\n",
              "    <tr>\n",
              "      <th>hashtags</th>\n",
              "      <td>object</td>\n",
              "    </tr>\n",
              "    <tr>\n",
              "      <th>urls</th>\n",
              "      <td>object</td>\n",
              "    </tr>\n",
              "    <tr>\n",
              "      <th>media_keys</th>\n",
              "      <td>object</td>\n",
              "    </tr>\n",
              "    <tr>\n",
              "      <th>place_id</th>\n",
              "      <td>object</td>\n",
              "    </tr>\n",
              "  </tbody>\n",
              "</table>\n",
              "</div><br><label><b>dtype:</b> object</label>"
            ]
          },
          "metadata": {},
          "execution_count": 24
        }
      ],
      "source": [
        "# Convert date/time columns\n",
        "df['created_at'] = pd.to_datetime(df['created_at'], errors='coerce')\n",
        "df['ts1'] = pd.to_datetime(df['ts1'], errors='coerce')\n",
        "df[' ts2'] = pd.to_datetime(df[' ts2'], errors='coerce')\n",
        "\n",
        "# Ensure boolean columns are correctly parsed\n",
        "boolean_columns = [\n",
        "    'from_stream', 'directly_from_stream', 'from_search', 'directly_from_search',\n",
        "    'from_quote_search', 'directly_from_quote_search', 'from_convo_search',\n",
        "    'directly_from_convo_search', 'from_timeline_search', 'directly_from_timeline_search',\n",
        "    'possibly_sensitive'\n",
        "]\n",
        "for col in boolean_columns:\n",
        "    df[col] = df[col].astype(bool)\n",
        "\n",
        "# Ensure numeric columns are correctly parsed as float\n",
        "numeric_columns = [\n",
        "    'author_id', 'conversation_id', 'author_follower_count', 'retweet_count',\n",
        "    'reply_count', 'like_count', 'quote_count', 'replied_to', 'replied_to_author_id',\n",
        "    'replied_to_follower_count', 'quoted', 'quoted_author_id', 'quoted_follower_count',\n",
        "    'retweeted', 'retweeted_author_id', 'retweeted_follower_count', 'mentioned_author_ids',\n",
        "    'mentioned_handles'\n",
        "]\n",
        "for col in numeric_columns:\n",
        "    df[col] = pd.to_numeric(df[col], errors='coerce')\n",
        "\n",
        "# Ensure text/categorical columns are correctly parsed as object\n",
        "text_columns = [\n",
        "    'text', 'lang', 'author_handle', 'reply_settings', 'source', 'replied_to_handle',\n",
        "    'quoted_handle', 'retweeted_handle', 'hashtags', 'urls', 'media_keys', 'place_id'\n",
        "]\n",
        "for col in text_columns:\n",
        "    df[col] = df[col].astype(str)\n",
        "\n",
        "# Verify changes\n",
        "df.dtypes\n"
      ]
    },
    {
      "cell_type": "code",
      "execution_count": 25,
      "metadata": {
        "colab": {
          "base_uri": "https://localhost:8080/"
        },
        "id": "L1jmyHs_LsnR",
        "outputId": "8bdf3150-8278-494b-8ac6-5eb2dd8a7957"
      },
      "outputs": [
        {
          "output_type": "stream",
          "name": "stdout",
          "text": [
            "Number of null values in 'created_at' after conversion: 86312\n"
          ]
        }
      ],
      "source": [
        "# Ensure 'created_at' is in datetime format\n",
        "df['created_at'] = pd.to_datetime(df['created_at'], errors='coerce')\n",
        "\n",
        "# Check for any nulls after conversion\n",
        "null_dates = df['created_at'].isnull().sum()\n",
        "print(f\"Number of null values in 'created_at' after conversion: {null_dates}\")\n",
        "\n",
        "# Drop rows where 'created_at' could not be converted\n",
        "df = df.dropna(subset=['created_at'])\n",
        "\n"
      ]
    },
    {
      "cell_type": "markdown",
      "metadata": {
        "id": "ErQo902QLsnS"
      },
      "source": [
        "#### Filter the Data for the Term"
      ]
    },
    {
      "cell_type": "code",
      "execution_count": 26,
      "metadata": {
        "id": "i33ZJMIeLsnT"
      },
      "outputs": [],
      "source": [
        "def filter_data_by_term(df, term):\n",
        "    \"\"\"Filter the DataFrame for rows containing the specified term in the 'text' column.\"\"\"\n",
        "    filtered_df = df[df['text'].str.contains(term, case=False, na=False)]\n",
        "    return filtered_df\n",
        "\n",
        "# Example usage: term 'music'\n",
        "term = 'music'\n",
        "filtered_df = filter_data_by_term(df, term)\n"
      ]
    },
    {
      "cell_type": "markdown",
      "source": [
        "# Part 2"
      ],
      "metadata": {
        "id": "cYcd_1_MQjuJ"
      }
    },
    {
      "cell_type": "markdown",
      "source": [
        "## Construct functionality"
      ],
      "metadata": {
        "id": "cEeqk9L1Qsd6"
      }
    },
    {
      "cell_type": "markdown",
      "metadata": {
        "id": "LMsRz2ZILsnT"
      },
      "source": [
        "#### 1. How many tweets were posted containing the term on each day?"
      ]
    },
    {
      "cell_type": "code",
      "execution_count": 27,
      "metadata": {
        "colab": {
          "base_uri": "https://localhost:8080/"
        },
        "id": "7IJqe19oLsnT",
        "outputId": "b8388e96-aaf8-45ae-8865-d95b10854f49"
      },
      "outputs": [
        {
          "output_type": "stream",
          "name": "stdout",
          "text": [
            "created_at\n",
            "2021-01-01      77\n",
            "2021-01-02     205\n",
            "2021-01-03     134\n",
            "2021-01-04      74\n",
            "2021-01-05      98\n",
            "              ... \n",
            "2021-03-10     162\n",
            "2021-03-11    1006\n",
            "2021-03-12    3860\n",
            "2021-03-13     240\n",
            "2021-03-14      15\n",
            "Length: 73, dtype: int64\n"
          ]
        }
      ],
      "source": [
        "def tweets_per_day(filtered_df):\n",
        "    \"\"\"Count the number of tweets containing the term per day.\"\"\"\n",
        "    tweets_per_day_count = filtered_df.groupby(filtered_df['created_at'].dt.date).size()\n",
        "    return tweets_per_day_count\n",
        "\n",
        "# Get the count of tweets per day\n",
        "tweets_per_day_count = tweets_per_day(filtered_df)\n",
        "print(tweets_per_day_count)\n"
      ]
    },
    {
      "cell_type": "markdown",
      "metadata": {
        "id": "-MH7jSztLsnU"
      },
      "source": [
        "#### 2. How many unique users posted a tweet containing the term?"
      ]
    },
    {
      "cell_type": "code",
      "execution_count": 28,
      "metadata": {
        "colab": {
          "base_uri": "https://localhost:8080/"
        },
        "id": "K46aIW0CLsnU",
        "outputId": "98918910-09e1-444f-e467-72e20b6dc77f"
      },
      "outputs": [
        {
          "output_type": "stream",
          "name": "stdout",
          "text": [
            "Number of unique users: 22507\n"
          ]
        }
      ],
      "source": [
        "def unique_users_count(filtered_df):\n",
        "    \"\"\"Count the number of unique users who posted tweets containing the term.\"\"\"\n",
        "    unique_users = filtered_df['author_id'].nunique()\n",
        "    return unique_users\n",
        "\n",
        "# Get the count of unique users\n",
        "unique_users = unique_users_count(filtered_df)\n",
        "print(f\"Number of unique users: {unique_users}\")\n"
      ]
    },
    {
      "cell_type": "markdown",
      "metadata": {
        "id": "-znDhDhNLsnU"
      },
      "source": [
        "#### 3. How many likes did tweets containing the term get, on average?"
      ]
    },
    {
      "cell_type": "code",
      "execution_count": 29,
      "metadata": {
        "colab": {
          "base_uri": "https://localhost:8080/"
        },
        "id": "sjNbPDJULsnU",
        "outputId": "c7036cc3-036b-4a2a-de8c-32ce0750d120"
      },
      "outputs": [
        {
          "output_type": "stream",
          "name": "stdout",
          "text": [
            "Average number of likes: 81.30\n"
          ]
        }
      ],
      "source": [
        "def average_likes(filtered_df):\n",
        "    \"\"\"Calculate the average number of likes for tweets containing the term.\"\"\"\n",
        "    avg_likes = filtered_df['like_count'].mean()\n",
        "    return avg_likes\n",
        "\n",
        "# Get the average number of likes\n",
        "avg_likes = average_likes(filtered_df)\n",
        "print(f\"Average number of likes: {avg_likes:.2f}\")\n"
      ]
    },
    {
      "cell_type": "markdown",
      "metadata": {
        "id": "JRbDnq1PLsnU"
      },
      "source": [
        "#### 4. Where (in terms of place IDs) did the tweets come from?"
      ]
    },
    {
      "cell_type": "code",
      "execution_count": 30,
      "metadata": {
        "colab": {
          "base_uri": "https://localhost:8080/"
        },
        "id": "N7uUypOFLsnU",
        "outputId": "67bf52ab-25a3-45f1-8e36-b4c87d76b0e8"
      },
      "outputs": [
        {
          "output_type": "stream",
          "name": "stdout",
          "text": [
            "Place IDs: ['nan' 'a84b808ce3f11719' 'dd3b100831dd1763' '4dad272dba156a02'\n",
            " '67687709552688fe' '3b77caf94bfc81fe' 'fbcefe96d630085b'\n",
            " '011a05612b6a331c' '3448f4f82d2187bc' 'a592bd6ceb1319f7'\n",
            " '19ad277db0586bb7' '5c2b5e46ab891f07' '75965f8c6ee9a4b0'\n",
            " 'fbd6d2f5a4e4a15e' '7cb7440bcf83d464' '9c1c0a45346f5837'\n",
            " 'e81d7291bd2ba45e' 'ea679934779f45c7' '4ec01c9dbc693497'\n",
            " '0a7dc9891a02c366' 'fa3435044b52ecc7' '5c62ffb0f0f3479d'\n",
            " '011add077f4d2da3' '00dba980404fa58a' '2335250557ea3fb4'\n",
            " '300bcc6e23a88361' '48ad377ff2ff9e51' 'c0b8e8dc81930292'\n",
            " '5d058f2e9fe1516c' '38d5974e82ed1a6c' '59612bd882018c51'\n",
            " 'e4a0d228eb6be76b' 'dc234665a759a05d' '7dde0febc9ef245b'\n",
            " '9807c5c5f7a2c6ce' '0509a6acb3d27ec4' '25ddf20e1bfb00ea'\n",
            " '3f871475c095f94f' '002e24c6736f069d' '6e276f099bcab5b5'\n",
            " '5a110d312052166f' '7dea5f8c907d1ea2' 'c8022ca5114d7ea9'\n",
            " '1df98ab7679917e7' 'fa8e38be72982a5a' '0112bdb03ace5ee9'\n",
            " 'a612c69b44b2e5da' 'efb544e303ed138c' 'd13775d10c08f835'\n",
            " 'b49b3053b5c25bf5' '3b98b02fba3f9753' '4393349f368f67a1'\n",
            " '02f09c87dcbecdb5' '62619a76134ad05e' '8004d2bebcc13e8c'\n",
            " 'ad815dfe8c34a012' 'f5b2e1c998aab0b5' '5f73d127c7ccf9d9'\n",
            " 'dce44ec49eb788f5' '01fbe706f872cb32' '01a9a39529b27f36'\n",
            " 'd2981a0f3d8eddd7' '5722ff20ba67083b' '005de1fe214f002d'\n",
            " '1d9a5370a355ab0c' '01864a8a64df9dc4' 'b2e39072b9847c46'\n",
            " '174309ec90de94d0' '68482982f9baf37a' 'c355c3620352b971'\n",
            " '1ef1183ed7056dc1' '70392b0b6ad1f95b' '53504716d445dcad']\n"
          ]
        }
      ],
      "source": [
        "def place_ids_list(filtered_df):\n",
        "    \"\"\"List unique place IDs from where the tweets containing the term were posted.\"\"\"\n",
        "    place_ids = filtered_df['place_id'].dropna().unique()\n",
        "    return place_ids\n",
        "\n",
        "# Get the list of place IDs\n",
        "place_ids = place_ids_list(filtered_df)\n",
        "print(f\"Place IDs: {place_ids}\")\n"
      ]
    },
    {
      "cell_type": "markdown",
      "metadata": {
        "id": "HX8Qm9j3LsnU"
      },
      "source": [
        "#### 5. What times of day were the tweets posted at?\n"
      ]
    },
    {
      "cell_type": "code",
      "execution_count": 31,
      "metadata": {
        "colab": {
          "base_uri": "https://localhost:8080/"
        },
        "id": "zdi_0cbVLsnU",
        "outputId": "43b4553b-97be-418e-f2a6-6b3037477ffe"
      },
      "outputs": [
        {
          "output_type": "stream",
          "name": "stdout",
          "text": [
            "hour\n",
            "0      911\n",
            "1      701\n",
            "2      583\n",
            "3     1059\n",
            "4      898\n",
            "5      710\n",
            "6      809\n",
            "7      938\n",
            "8     1019\n",
            "9     1082\n",
            "10    1554\n",
            "11    1649\n",
            "12    1544\n",
            "13    1323\n",
            "14    1205\n",
            "15    1518\n",
            "16    1495\n",
            "17    1792\n",
            "18    1543\n",
            "19    1377\n",
            "20    1293\n",
            "21    1246\n",
            "22    1097\n",
            "23    1046\n",
            "Name: count, dtype: int64\n"
          ]
        },
        {
          "output_type": "stream",
          "name": "stderr",
          "text": [
            "<ipython-input-31-03331c1a19e1>:3: SettingWithCopyWarning: \n",
            "A value is trying to be set on a copy of a slice from a DataFrame.\n",
            "Try using .loc[row_indexer,col_indexer] = value instead\n",
            "\n",
            "See the caveats in the documentation: https://pandas.pydata.org/pandas-docs/stable/user_guide/indexing.html#returning-a-view-versus-a-copy\n",
            "  filtered_df['hour'] = filtered_df['created_at'].dt.hour\n"
          ]
        }
      ],
      "source": [
        "def tweets_by_hour(filtered_df):\n",
        "    \"\"\"Analyze the times of day when tweets containing the term were posted.\"\"\"\n",
        "    filtered_df['hour'] = filtered_df['created_at'].dt.hour\n",
        "    tweets_by_hour_count = filtered_df['hour'].value_counts().sort_index()\n",
        "    return tweets_by_hour_count\n",
        "\n",
        "# Get the distribution of tweets by hour\n",
        "tweets_by_hour_count = tweets_by_hour(filtered_df)\n",
        "print(tweets_by_hour_count)\n"
      ]
    },
    {
      "cell_type": "code",
      "execution_count": 32,
      "metadata": {
        "colab": {
          "base_uri": "https://localhost:8080/",
          "height": 564
        },
        "id": "4Gd25MWILsnV",
        "outputId": "9045819a-51bb-40f4-bb2b-d04e8c3447df"
      },
      "outputs": [
        {
          "output_type": "display_data",
          "data": {
            "text/plain": [
              "<Figure size 1200x600 with 1 Axes>"
            ],
            "image/png": "[encoded data removed]"
          },
          "metadata": {}
        }
      ],
      "source": [
        "def plot_tweets_by_hour(tweets_by_hour_count):\n",
        "    \"\"\"Plot the distribution of tweets by hour of the day.\"\"\"\n",
        "    plt.figure(figsize=(12, 6))\n",
        "    tweets_by_hour_count.plot(kind='bar', color='skyblue', edgecolor='black')\n",
        "    plt.title('Distribution of Tweets Containing the Term by Hour of the Day')\n",
        "    plt.xlabel('Hour of Day')\n",
        "    plt.ylabel('Number of Tweets')\n",
        "    plt.xticks(rotation=0)\n",
        "    plt.grid(axis='y', linestyle='--', alpha=0.7)\n",
        "    plt.show()\n",
        "\n",
        "# Plot the distribution of tweets by hour\n",
        "plot_tweets_by_hour(tweets_by_hour_count)\n"
      ]
    },
    {
      "cell_type": "markdown",
      "metadata": {
        "id": "6dGyCcX_LsnV"
      },
      "source": [
        "##### 6. Which user posted the most tweets containing the term?\n"
      ]
    },
    {
      "cell_type": "code",
      "execution_count": 33,
      "metadata": {
        "colab": {
          "base_uri": "https://localhost:8080/"
        },
        "id": "0Op5UH-ELsnV",
        "outputId": "e2e97a6a-e101-49fb-a5d2-b60471a1d9d0"
      },
      "outputs": [
        {
          "output_type": "stream",
          "name": "stdout",
          "text": [
            "Most active user ID: 711826025349517312 with 172 tweets\n"
          ]
        }
      ],
      "source": [
        "def most_active_user(filtered_df):\n",
        "    \"\"\"Identify the user who posted the most tweets containing the term.\"\"\"\n",
        "    # Convert the user ID to integer to avoid scientific notation\n",
        "    most_active_user_id = filtered_df['author_id'].value_counts().idxmax()\n",
        "    most_active_user_count = filtered_df['author_id'].value_counts().max()\n",
        "    return int(most_active_user_id), most_active_user_count\n",
        "\n",
        "# Get the most active user and the number of tweets they posted\n",
        "most_active_user_id, most_active_user_count = most_active_user(filtered_df)\n",
        "print(f\"Most active user ID: {most_active_user_id} with {most_active_user_count} tweets\")\n"
      ]
    }
  ],
  "metadata": {
    "kernelspec": {
      "display_name": "Python 3",
      "language": "python",
      "name": "python3"
    },
    "language_info": {
      "codemirror_mode": {
        "name": "ipython",
        "version": 3
      },
      "file_extension": ".py",
      "mimetype": "text/x-python",
      "name": "python",
      "nbconvert_exporter": "python",
      "pygments_lexer": "ipython3",
      "version": "3.8.8"
    },
    "colab": {
      "provenance": []
    }
  },
  "nbformat": 4,
  "nbformat_minor": 0
}